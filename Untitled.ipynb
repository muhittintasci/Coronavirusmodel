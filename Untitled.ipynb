{
 "cells": [
  {
   "cell_type": "code",
   "execution_count": 1,
   "metadata": {},
   "outputs": [],
   "source": [
    "import pandas as pd"
   ]
  },
  {
   "cell_type": "code",
   "execution_count": 2,
   "metadata": {},
   "outputs": [],
   "source": [
    "ncov_data_cases = pd.read_html('https://www.worldometers.info/coronavirus')"
   ]
  },
  {
   "cell_type": "code",
   "execution_count": 26,
   "metadata": {},
   "outputs": [
    {
     "data": {
      "text/plain": [
       "(164, 9)"
      ]
     },
     "execution_count": 26,
     "metadata": {},
     "output_type": "execute_result"
    }
   ],
   "source": [
    "#len(ncov_data_cases[0])\n",
    "vir_df = pd.DataFrame(ncov_data_cases[0])\n",
    "vir_df.shape"
   ]
  },
  {
   "cell_type": "code",
   "execution_count": 28,
   "metadata": {},
   "outputs": [
    {
     "data": {
      "text/html": [
       "<div>\n",
       "<style scoped>\n",
       "    .dataframe tbody tr th:only-of-type {\n",
       "        vertical-align: middle;\n",
       "    }\n",
       "\n",
       "    .dataframe tbody tr th {\n",
       "        vertical-align: top;\n",
       "    }\n",
       "\n",
       "    .dataframe thead th {\n",
       "        text-align: right;\n",
       "    }\n",
       "</style>\n",
       "<table border=\"1\" class=\"dataframe\">\n",
       "  <thead>\n",
       "    <tr style=\"text-align: right;\">\n",
       "      <th></th>\n",
       "      <th>Country,Other</th>\n",
       "      <th>TotalCases</th>\n",
       "      <th>NewCases</th>\n",
       "      <th>TotalDeaths</th>\n",
       "      <th>NewDeaths</th>\n",
       "      <th>TotalRecovered</th>\n",
       "      <th>ActiveCases</th>\n",
       "      <th>Serious,Critical</th>\n",
       "      <th>Tot Cases/1M pop</th>\n",
       "    </tr>\n",
       "  </thead>\n",
       "  <tbody>\n",
       "    <tr>\n",
       "      <td>0</td>\n",
       "      <td>China</td>\n",
       "      <td>80883</td>\n",
       "      <td>+23</td>\n",
       "      <td>3226.0</td>\n",
       "      <td>13.0</td>\n",
       "      <td>68688.0</td>\n",
       "      <td>8969</td>\n",
       "      <td>3226.0</td>\n",
       "      <td>56.2</td>\n",
       "    </tr>\n",
       "    <tr>\n",
       "      <td>1</td>\n",
       "      <td>Italy</td>\n",
       "      <td>27980</td>\n",
       "      <td>+3,233</td>\n",
       "      <td>2158.0</td>\n",
       "      <td>349.0</td>\n",
       "      <td>2749.0</td>\n",
       "      <td>23073</td>\n",
       "      <td>1851.0</td>\n",
       "      <td>NaN</td>\n",
       "    </tr>\n",
       "    <tr>\n",
       "      <td>2</td>\n",
       "      <td>Iran</td>\n",
       "      <td>14991</td>\n",
       "      <td>+1,053</td>\n",
       "      <td>853.0</td>\n",
       "      <td>129.0</td>\n",
       "      <td>4590.0</td>\n",
       "      <td>9548</td>\n",
       "      <td>NaN</td>\n",
       "      <td>247.9</td>\n",
       "    </tr>\n",
       "    <tr>\n",
       "      <td>3</td>\n",
       "      <td>Spain</td>\n",
       "      <td>9942</td>\n",
       "      <td>+1,954</td>\n",
       "      <td>342.0</td>\n",
       "      <td>48.0</td>\n",
       "      <td>530.0</td>\n",
       "      <td>9070</td>\n",
       "      <td>272.0</td>\n",
       "      <td>118.4</td>\n",
       "    </tr>\n",
       "    <tr>\n",
       "      <td>4</td>\n",
       "      <td>S. Korea</td>\n",
       "      <td>8236</td>\n",
       "      <td>+74</td>\n",
       "      <td>75.0</td>\n",
       "      <td>NaN</td>\n",
       "      <td>1137.0</td>\n",
       "      <td>7024</td>\n",
       "      <td>59.0</td>\n",
       "      <td>176.2</td>\n",
       "    </tr>\n",
       "  </tbody>\n",
       "</table>\n",
       "</div>"
      ],
      "text/plain": [
       "  Country,Other  TotalCases NewCases  TotalDeaths  NewDeaths  TotalRecovered  \\\n",
       "0         China       80883      +23       3226.0       13.0         68688.0   \n",
       "1         Italy       27980   +3,233       2158.0      349.0          2749.0   \n",
       "2          Iran       14991   +1,053        853.0      129.0          4590.0   \n",
       "3         Spain        9942   +1,954        342.0       48.0           530.0   \n",
       "4      S. Korea        8236      +74         75.0        NaN          1137.0   \n",
       "\n",
       "   ActiveCases  Serious,Critical  Tot Cases/1M pop  \n",
       "0         8969            3226.0              56.2  \n",
       "1        23073            1851.0               NaN  \n",
       "2         9548               NaN             247.9  \n",
       "3         9070             272.0             118.4  \n",
       "4         7024              59.0             176.2  "
      ]
     },
     "execution_count": 28,
     "metadata": {},
     "output_type": "execute_result"
    }
   ],
   "source": [
    "vir_df[:5]"
   ]
  },
  {
   "cell_type": "code",
   "execution_count": 50,
   "metadata": {},
   "outputs": [
    {
     "data": {
      "text/html": [
       "<div>\n",
       "<style scoped>\n",
       "    .dataframe tbody tr th:only-of-type {\n",
       "        vertical-align: middle;\n",
       "    }\n",
       "\n",
       "    .dataframe tbody tr th {\n",
       "        vertical-align: top;\n",
       "    }\n",
       "\n",
       "    .dataframe thead th {\n",
       "        text-align: right;\n",
       "    }\n",
       "</style>\n",
       "<table border=\"1\" class=\"dataframe\">\n",
       "  <thead>\n",
       "    <tr style=\"text-align: right;\">\n",
       "      <th></th>\n",
       "      <th>Country,Other</th>\n",
       "      <th>TotalCases</th>\n",
       "      <th>NewCases</th>\n",
       "      <th>TotalDeaths</th>\n",
       "      <th>NewDeaths</th>\n",
       "      <th>TotalRecovered</th>\n",
       "      <th>ActiveCases</th>\n",
       "      <th>Serious,Critical</th>\n",
       "      <th>Tot Cases/1M pop</th>\n",
       "    </tr>\n",
       "  </thead>\n",
       "  <tbody>\n",
       "  </tbody>\n",
       "</table>\n",
       "</div>"
      ],
      "text/plain": [
       "Empty DataFrame\n",
       "Columns: [Country,Other, TotalCases, NewCases, TotalDeaths, NewDeaths, TotalRecovered, ActiveCases, Serious,Critical, Tot Cases/1M pop]\n",
       "Index: []"
      ]
     },
     "execution_count": 50,
     "metadata": {},
     "output_type": "execute_result"
    }
   ],
   "source": [
    "vir_df[vir_df['Country,Other']=='Iran']"
   ]
  },
  {
   "cell_type": "code",
   "execution_count": 59,
   "metadata": {},
   "outputs": [
    {
     "data": {
      "text/plain": [
       "364862"
      ]
     },
     "execution_count": 59,
     "metadata": {},
     "output_type": "execute_result"
    }
   ],
   "source": [
    "total_cases_sum = vir_df['TotalCases'].sum()\n",
    "total_cases_sum"
   ]
  },
  {
   "cell_type": "code",
   "execution_count": 60,
   "metadata": {},
   "outputs": [
    {
     "data": {
      "text/html": [
       "<div>\n",
       "<style scoped>\n",
       "    .dataframe tbody tr th:only-of-type {\n",
       "        vertical-align: middle;\n",
       "    }\n",
       "\n",
       "    .dataframe tbody tr th {\n",
       "        vertical-align: top;\n",
       "    }\n",
       "\n",
       "    .dataframe thead th {\n",
       "        text-align: right;\n",
       "    }\n",
       "</style>\n",
       "<table border=\"1\" class=\"dataframe\">\n",
       "  <thead>\n",
       "    <tr style=\"text-align: right;\">\n",
       "      <th></th>\n",
       "      <th>Country,Other</th>\n",
       "      <th>TotalCases</th>\n",
       "      <th>NewCases</th>\n",
       "      <th>TotalDeaths</th>\n",
       "      <th>NewDeaths</th>\n",
       "      <th>TotalRecovered</th>\n",
       "      <th>ActiveCases</th>\n",
       "      <th>Serious,Critical</th>\n",
       "      <th>Tot Cases/1M pop</th>\n",
       "    </tr>\n",
       "  </thead>\n",
       "  <tbody>\n",
       "    <tr>\n",
       "      <td>0</td>\n",
       "      <td>China</td>\n",
       "      <td>80883</td>\n",
       "      <td>+23</td>\n",
       "      <td>3226.0</td>\n",
       "      <td>13.0</td>\n",
       "      <td>68688.0</td>\n",
       "      <td>8969</td>\n",
       "      <td>3226.0</td>\n",
       "      <td>56.2</td>\n",
       "    </tr>\n",
       "    <tr>\n",
       "      <td>1</td>\n",
       "      <td>Italy</td>\n",
       "      <td>27980</td>\n",
       "      <td>+3,233</td>\n",
       "      <td>2158.0</td>\n",
       "      <td>349.0</td>\n",
       "      <td>2749.0</td>\n",
       "      <td>23073</td>\n",
       "      <td>1851.0</td>\n",
       "      <td>NaN</td>\n",
       "    </tr>\n",
       "    <tr>\n",
       "      <td>2</td>\n",
       "      <td>Iran</td>\n",
       "      <td>14991</td>\n",
       "      <td>+1,053</td>\n",
       "      <td>853.0</td>\n",
       "      <td>129.0</td>\n",
       "      <td>4590.0</td>\n",
       "      <td>9548</td>\n",
       "      <td>NaN</td>\n",
       "      <td>247.9</td>\n",
       "    </tr>\n",
       "    <tr>\n",
       "      <td>3</td>\n",
       "      <td>Spain</td>\n",
       "      <td>9942</td>\n",
       "      <td>+1,954</td>\n",
       "      <td>342.0</td>\n",
       "      <td>48.0</td>\n",
       "      <td>530.0</td>\n",
       "      <td>9070</td>\n",
       "      <td>272.0</td>\n",
       "      <td>118.4</td>\n",
       "    </tr>\n",
       "    <tr>\n",
       "      <td>4</td>\n",
       "      <td>S. Korea</td>\n",
       "      <td>8236</td>\n",
       "      <td>+74</td>\n",
       "      <td>75.0</td>\n",
       "      <td>NaN</td>\n",
       "      <td>1137.0</td>\n",
       "      <td>7024</td>\n",
       "      <td>59.0</td>\n",
       "      <td>176.2</td>\n",
       "    </tr>\n",
       "    <tr>\n",
       "      <td>...</td>\n",
       "      <td>...</td>\n",
       "      <td>...</td>\n",
       "      <td>...</td>\n",
       "      <td>...</td>\n",
       "      <td>...</td>\n",
       "      <td>...</td>\n",
       "      <td>...</td>\n",
       "      <td>...</td>\n",
       "      <td>...</td>\n",
       "    </tr>\n",
       "    <tr>\n",
       "      <td>159</td>\n",
       "      <td>Eswatini</td>\n",
       "      <td>1</td>\n",
       "      <td>NaN</td>\n",
       "      <td>NaN</td>\n",
       "      <td>NaN</td>\n",
       "      <td>NaN</td>\n",
       "      <td>1</td>\n",
       "      <td>NaN</td>\n",
       "      <td>0.9</td>\n",
       "    </tr>\n",
       "    <tr>\n",
       "      <td>160</td>\n",
       "      <td>Tanzania</td>\n",
       "      <td>1</td>\n",
       "      <td>+1</td>\n",
       "      <td>NaN</td>\n",
       "      <td>NaN</td>\n",
       "      <td>NaN</td>\n",
       "      <td>1</td>\n",
       "      <td>NaN</td>\n",
       "      <td>NaN</td>\n",
       "    </tr>\n",
       "    <tr>\n",
       "      <td>161</td>\n",
       "      <td>Togo</td>\n",
       "      <td>1</td>\n",
       "      <td>NaN</td>\n",
       "      <td>NaN</td>\n",
       "      <td>NaN</td>\n",
       "      <td>NaN</td>\n",
       "      <td>1</td>\n",
       "      <td>NaN</td>\n",
       "      <td>0.1</td>\n",
       "    </tr>\n",
       "    <tr>\n",
       "      <td>162</td>\n",
       "      <td>U.S. Virgin Islands</td>\n",
       "      <td>1</td>\n",
       "      <td>NaN</td>\n",
       "      <td>NaN</td>\n",
       "      <td>NaN</td>\n",
       "      <td>NaN</td>\n",
       "      <td>1</td>\n",
       "      <td>NaN</td>\n",
       "      <td>NaN</td>\n",
       "    </tr>\n",
       "    <tr>\n",
       "      <td>163</td>\n",
       "      <td>Total:</td>\n",
       "      <td>182431</td>\n",
       "      <td>12867</td>\n",
       "      <td>7157.0</td>\n",
       "      <td>638.0</td>\n",
       "      <td>79211.0</td>\n",
       "      <td>96063</td>\n",
       "      <td>6163.0</td>\n",
       "      <td>23.4</td>\n",
       "    </tr>\n",
       "  </tbody>\n",
       "</table>\n",
       "<p>164 rows × 9 columns</p>\n",
       "</div>"
      ],
      "text/plain": [
       "           Country,Other  TotalCases NewCases  TotalDeaths  NewDeaths  \\\n",
       "0                  China       80883      +23       3226.0       13.0   \n",
       "1                  Italy       27980   +3,233       2158.0      349.0   \n",
       "2                   Iran       14991   +1,053        853.0      129.0   \n",
       "3                  Spain        9942   +1,954        342.0       48.0   \n",
       "4               S. Korea        8236      +74         75.0        NaN   \n",
       "..                   ...         ...      ...          ...        ...   \n",
       "159             Eswatini           1      NaN          NaN        NaN   \n",
       "160             Tanzania           1       +1          NaN        NaN   \n",
       "161                 Togo           1      NaN          NaN        NaN   \n",
       "162  U.S. Virgin Islands           1      NaN          NaN        NaN   \n",
       "163               Total:      182431    12867       7157.0      638.0   \n",
       "\n",
       "     TotalRecovered  ActiveCases  Serious,Critical  Tot Cases/1M pop  \n",
       "0           68688.0         8969            3226.0              56.2  \n",
       "1            2749.0        23073            1851.0               NaN  \n",
       "2            4590.0         9548               NaN             247.9  \n",
       "3             530.0         9070             272.0             118.4  \n",
       "4            1137.0         7024              59.0             176.2  \n",
       "..              ...          ...               ...               ...  \n",
       "159             NaN            1               NaN               0.9  \n",
       "160             NaN            1               NaN               NaN  \n",
       "161             NaN            1               NaN               0.1  \n",
       "162             NaN            1               NaN               NaN  \n",
       "163         79211.0        96063            6163.0              23.4  \n",
       "\n",
       "[164 rows x 9 columns]"
      ]
     },
     "execution_count": 60,
     "metadata": {},
     "output_type": "execute_result"
    }
   ],
   "source": [
    "vir_df"
   ]
  },
  {
   "cell_type": "code",
   "execution_count": 61,
   "metadata": {},
   "outputs": [
    {
     "data": {
      "text/plain": [
       "163    182431\n",
       "Name: TotalCases, dtype: int64"
      ]
     },
     "execution_count": 61,
     "metadata": {},
     "output_type": "execute_result"
    }
   ],
   "source": [
    "total_cases = vir_df[vir_df['Country,Other'] == 'Total:']['TotalCases']\n",
    "total_cases"
   ]
  },
  {
   "cell_type": "code",
   "execution_count": 62,
   "metadata": {},
   "outputs": [
    {
     "data": {
      "text/plain": [
       "163    182431\n",
       "Name: TotalCases, dtype: int64"
      ]
     },
     "execution_count": 62,
     "metadata": {},
     "output_type": "execute_result"
    }
   ],
   "source": [
    "total_cases_sum-total_cases"
   ]
  },
  {
   "cell_type": "code",
   "execution_count": 63,
   "metadata": {},
   "outputs": [
    {
     "data": {
      "text/plain": [
       "pandas.core.frame.DataFrame"
      ]
     },
     "execution_count": 63,
     "metadata": {},
     "output_type": "execute_result"
    }
   ],
   "source": [
    "type(ncov_data_cases[0])"
   ]
  },
  {
   "cell_type": "code",
   "execution_count": 64,
   "metadata": {},
   "outputs": [],
   "source": [
    "data_age_sex_html = pd.read_html('https://www.worldometers.info/coronavirus/coronavirus-age-sex-demographics/')"
   ]
  },
  {
   "cell_type": "code",
   "execution_count": 65,
   "metadata": {},
   "outputs": [
    {
     "data": {
      "text/plain": [
       "3"
      ]
     },
     "execution_count": 65,
     "metadata": {},
     "output_type": "execute_result"
    }
   ],
   "source": [
    "len(data_age_sex_html)"
   ]
  },
  {
   "cell_type": "code",
   "execution_count": 66,
   "metadata": {},
   "outputs": [
    {
     "data": {
      "text/html": [
       "<div>\n",
       "<style scoped>\n",
       "    .dataframe tbody tr th:only-of-type {\n",
       "        vertical-align: middle;\n",
       "    }\n",
       "\n",
       "    .dataframe tbody tr th {\n",
       "        vertical-align: top;\n",
       "    }\n",
       "\n",
       "    .dataframe thead th {\n",
       "        text-align: right;\n",
       "    }\n",
       "</style>\n",
       "<table border=\"1\" class=\"dataframe\">\n",
       "  <thead>\n",
       "    <tr style=\"text-align: right;\">\n",
       "      <th></th>\n",
       "      <th>0</th>\n",
       "      <th>1</th>\n",
       "      <th>2</th>\n",
       "    </tr>\n",
       "  </thead>\n",
       "  <tbody>\n",
       "    <tr>\n",
       "      <td>0</td>\n",
       "      <td>AGE</td>\n",
       "      <td>DEATH RATE confirmed cases</td>\n",
       "      <td>DEATH RATE all cases</td>\n",
       "    </tr>\n",
       "    <tr>\n",
       "      <td>1</td>\n",
       "      <td>80+ years old</td>\n",
       "      <td>21.9%</td>\n",
       "      <td>14.8%</td>\n",
       "    </tr>\n",
       "    <tr>\n",
       "      <td>2</td>\n",
       "      <td>70-79 years old</td>\n",
       "      <td>NaN</td>\n",
       "      <td>8.0%</td>\n",
       "    </tr>\n",
       "    <tr>\n",
       "      <td>3</td>\n",
       "      <td>60-69 years old</td>\n",
       "      <td>NaN</td>\n",
       "      <td>3.6%</td>\n",
       "    </tr>\n",
       "    <tr>\n",
       "      <td>4</td>\n",
       "      <td>50-59 years old</td>\n",
       "      <td>NaN</td>\n",
       "      <td>1.3%</td>\n",
       "    </tr>\n",
       "    <tr>\n",
       "      <td>5</td>\n",
       "      <td>40-49 years old</td>\n",
       "      <td>NaN</td>\n",
       "      <td>0.4%</td>\n",
       "    </tr>\n",
       "    <tr>\n",
       "      <td>6</td>\n",
       "      <td>30-39 years old</td>\n",
       "      <td>NaN</td>\n",
       "      <td>0.2%</td>\n",
       "    </tr>\n",
       "    <tr>\n",
       "      <td>7</td>\n",
       "      <td>20-29 years old</td>\n",
       "      <td>NaN</td>\n",
       "      <td>0.2%</td>\n",
       "    </tr>\n",
       "    <tr>\n",
       "      <td>8</td>\n",
       "      <td>10-19 years old</td>\n",
       "      <td>NaN</td>\n",
       "      <td>0.2%</td>\n",
       "    </tr>\n",
       "    <tr>\n",
       "      <td>9</td>\n",
       "      <td>0-9 years old</td>\n",
       "      <td>NaN</td>\n",
       "      <td>no fatalities</td>\n",
       "    </tr>\n",
       "  </tbody>\n",
       "</table>\n",
       "</div>"
      ],
      "text/plain": [
       "                 0                           1                     2\n",
       "0              AGE  DEATH RATE confirmed cases  DEATH RATE all cases\n",
       "1    80+ years old                       21.9%                 14.8%\n",
       "2  70-79 years old                         NaN                  8.0%\n",
       "3  60-69 years old                         NaN                  3.6%\n",
       "4  50-59 years old                         NaN                  1.3%\n",
       "5  40-49 years old                         NaN                  0.4%\n",
       "6  30-39 years old                         NaN                  0.2%\n",
       "7  20-29 years old                         NaN                  0.2%\n",
       "8  10-19 years old                         NaN                  0.2%\n",
       "9    0-9 years old                         NaN         no fatalities"
      ]
     },
     "execution_count": 66,
     "metadata": {},
     "output_type": "execute_result"
    }
   ],
   "source": [
    "data_age_sex_html[0]"
   ]
  },
  {
   "cell_type": "code",
   "execution_count": 67,
   "metadata": {},
   "outputs": [
    {
     "data": {
      "text/html": [
       "<div>\n",
       "<style scoped>\n",
       "    .dataframe tbody tr th:only-of-type {\n",
       "        vertical-align: middle;\n",
       "    }\n",
       "\n",
       "    .dataframe tbody tr th {\n",
       "        vertical-align: top;\n",
       "    }\n",
       "\n",
       "    .dataframe thead th {\n",
       "        text-align: right;\n",
       "    }\n",
       "</style>\n",
       "<table border=\"1\" class=\"dataframe\">\n",
       "  <thead>\n",
       "    <tr style=\"text-align: right;\">\n",
       "      <th></th>\n",
       "      <th>0</th>\n",
       "      <th>1</th>\n",
       "      <th>2</th>\n",
       "    </tr>\n",
       "  </thead>\n",
       "  <tbody>\n",
       "    <tr>\n",
       "      <td>0</td>\n",
       "      <td>SEX</td>\n",
       "      <td>DEATH RATE confirmed cases</td>\n",
       "      <td>DEATH RATE all cases</td>\n",
       "    </tr>\n",
       "    <tr>\n",
       "      <td>1</td>\n",
       "      <td>Male</td>\n",
       "      <td>4.7%</td>\n",
       "      <td>2.8%</td>\n",
       "    </tr>\n",
       "    <tr>\n",
       "      <td>2</td>\n",
       "      <td>Female</td>\n",
       "      <td>2.8%</td>\n",
       "      <td>1.7%</td>\n",
       "    </tr>\n",
       "  </tbody>\n",
       "</table>\n",
       "</div>"
      ],
      "text/plain": [
       "        0                           1                     2\n",
       "0     SEX  DEATH RATE confirmed cases  DEATH RATE all cases\n",
       "1    Male                        4.7%                  2.8%\n",
       "2  Female                        2.8%                  1.7%"
      ]
     },
     "execution_count": 67,
     "metadata": {},
     "output_type": "execute_result"
    }
   ],
   "source": [
    "data_age_sex_html[1]"
   ]
  },
  {
   "cell_type": "code",
   "execution_count": 68,
   "metadata": {},
   "outputs": [
    {
     "data": {
      "text/html": [
       "<div>\n",
       "<style scoped>\n",
       "    .dataframe tbody tr th:only-of-type {\n",
       "        vertical-align: middle;\n",
       "    }\n",
       "\n",
       "    .dataframe tbody tr th {\n",
       "        vertical-align: top;\n",
       "    }\n",
       "\n",
       "    .dataframe thead th {\n",
       "        text-align: right;\n",
       "    }\n",
       "</style>\n",
       "<table border=\"1\" class=\"dataframe\">\n",
       "  <thead>\n",
       "    <tr style=\"text-align: right;\">\n",
       "      <th></th>\n",
       "      <th>0</th>\n",
       "      <th>1</th>\n",
       "      <th>2</th>\n",
       "    </tr>\n",
       "  </thead>\n",
       "  <tbody>\n",
       "    <tr>\n",
       "      <td>0</td>\n",
       "      <td>PRE-EXISTING CONDITION</td>\n",
       "      <td>DEATH RATE confirmed cases</td>\n",
       "      <td>DEATH RATE all cases</td>\n",
       "    </tr>\n",
       "    <tr>\n",
       "      <td>1</td>\n",
       "      <td>Cardiovascular disease</td>\n",
       "      <td>13.2%</td>\n",
       "      <td>10.5%</td>\n",
       "    </tr>\n",
       "    <tr>\n",
       "      <td>2</td>\n",
       "      <td>Diabetes</td>\n",
       "      <td>9.2%</td>\n",
       "      <td>7.3%</td>\n",
       "    </tr>\n",
       "    <tr>\n",
       "      <td>3</td>\n",
       "      <td>Chronic respiratory disease</td>\n",
       "      <td>8.0%</td>\n",
       "      <td>6.3%</td>\n",
       "    </tr>\n",
       "    <tr>\n",
       "      <td>4</td>\n",
       "      <td>Hypertension</td>\n",
       "      <td>8.4%</td>\n",
       "      <td>6.0%</td>\n",
       "    </tr>\n",
       "    <tr>\n",
       "      <td>5</td>\n",
       "      <td>Cancer</td>\n",
       "      <td>7.6%</td>\n",
       "      <td>5.6%</td>\n",
       "    </tr>\n",
       "    <tr>\n",
       "      <td>6</td>\n",
       "      <td>no pre-existing conditions</td>\n",
       "      <td>NaN</td>\n",
       "      <td>0.9%</td>\n",
       "    </tr>\n",
       "  </tbody>\n",
       "</table>\n",
       "</div>"
      ],
      "text/plain": [
       "                             0                           1  \\\n",
       "0       PRE-EXISTING CONDITION  DEATH RATE confirmed cases   \n",
       "1       Cardiovascular disease                       13.2%   \n",
       "2                     Diabetes                        9.2%   \n",
       "3  Chronic respiratory disease                        8.0%   \n",
       "4                 Hypertension                        8.4%   \n",
       "5                       Cancer                        7.6%   \n",
       "6   no pre-existing conditions                         NaN   \n",
       "\n",
       "                      2  \n",
       "0  DEATH RATE all cases  \n",
       "1                 10.5%  \n",
       "2                  7.3%  \n",
       "3                  6.3%  \n",
       "4                  6.0%  \n",
       "5                  5.6%  \n",
       "6                  0.9%  "
      ]
     },
     "execution_count": 68,
     "metadata": {},
     "output_type": "execute_result"
    }
   ],
   "source": [
    "data_age_sex_html[2]"
   ]
  },
  {
   "cell_type": "code",
   "execution_count": null,
   "metadata": {},
   "outputs": [],
   "source": []
  }
 ],
 "metadata": {
  "kernelspec": {
   "display_name": "Python 3",
   "language": "python",
   "name": "python3"
  },
  "language_info": {
   "codemirror_mode": {
    "name": "ipython",
    "version": 3
   },
   "file_extension": ".py",
   "mimetype": "text/x-python",
   "name": "python",
   "nbconvert_exporter": "python",
   "pygments_lexer": "ipython3",
   "version": "3.8.2"
  }
 },
 "nbformat": 4,
 "nbformat_minor": 2
}
