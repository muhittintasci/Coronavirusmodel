{
 "cells": [
  {
   "cell_type": "code",
   "execution_count": 10,
   "metadata": {},
   "outputs": [],
   "source": [
    "import os,sys,inspect\n",
    "currentdir = os.path.dirname(os.path.abspath(inspect.getfile(inspect.currentframe())))\n",
    "parentdir = os.path.dirname(currentdir)\n",
    "sys.path.insert(0,parentdir) \n",
    "from src.Utils.SaverUtils import Saver\n",
    "\n",
    "import numpy as np\n",
    "import pandas as pd"
   ]
  },
  {
   "cell_type": "code",
   "execution_count": 13,
   "metadata": {},
   "outputs": [
    {
     "ename": "MemoryError",
     "evalue": "Unable to allocate 89.8 PiB for an array with shape (1, 1, 1, 5, 6, 18, 47, 97, 189, 355, 661, 926) and data type int8",
     "output_type": "error",
     "traceback": [
      "\u001b[0;31m---------------------------------------------------------------------------\u001b[0m",
      "\u001b[0;31mMemoryError\u001b[0m                               Traceback (most recent call last)",
      "\u001b[0;32m<ipython-input-13-d12205d64629>\u001b[0m in \u001b[0;36m<module>\u001b[0;34m\u001b[0m\n\u001b[0;32m----> 1\u001b[0;31m active_cases = np.ndarray([1,1,1,5,6,18,47,\n\u001b[0m\u001b[1;32m      2\u001b[0m                           \u001b[0;36m97\u001b[0m\u001b[0;34m,\u001b[0m\u001b[0;36m189\u001b[0m\u001b[0;34m,\u001b[0m\u001b[0;36m355\u001b[0m\u001b[0;34m,\u001b[0m\u001b[0;36m661\u001b[0m\u001b[0;34m,\u001b[0m\u001b[0;36m926\u001b[0m\u001b[0;34m\u001b[0m\u001b[0;34m\u001b[0m\u001b[0m\n\u001b[1;32m      3\u001b[0m                           ],dtype='int8')\n",
      "\u001b[0;31mMemoryError\u001b[0m: Unable to allocate 89.8 PiB for an array with shape (1, 1, 1, 5, 6, 18, 47, 97, 189, 355, 661, 926) and data type int8"
     ]
    }
   ],
   "source": [
    "active_cases = np.ndarray([1,1,1,5,6,18,47,\n",
    "                          97,189,355,661,926\n",
    "                          ],dtype='int8')"
   ]
  },
  {
   "cell_type": "code",
   "execution_count": 3,
   "metadata": {},
   "outputs": [
    {
     "ename": "IndentationError",
     "evalue": "unexpected indent (<ipython-input-3-06f443527258>, line 2)",
     "output_type": "error",
     "traceback": [
      "\u001b[0;36m  File \u001b[0;32m\"<ipython-input-3-06f443527258>\"\u001b[0;36m, line \u001b[0;32m2\u001b[0m\n\u001b[0;31m    13074,15069,17364\u001b[0m\n\u001b[0m    ^\u001b[0m\n\u001b[0;31mIndentationError\u001b[0m\u001b[0;31m:\u001b[0m unexpected indent\n"
     ]
    }
   ],
   "source": []
  },
  {
   "cell_type": "code",
   "execution_count": null,
   "metadata": {},
   "outputs": [],
   "source": [
    "355,661,926,1206,14921828,2348,3528,5564,7224,8981,10497,\n",
    "                          13074,15069,17364"
   ]
  }
 ],
 "metadata": {
  "kernelspec": {
   "display_name": "local-venv",
   "language": "python",
   "name": "local-venv"
  },
  "language_info": {
   "codemirror_mode": {
    "name": "ipython",
    "version": 3
   },
   "file_extension": ".py",
   "mimetype": "text/x-python",
   "name": "python",
   "nbconvert_exporter": "python",
   "pygments_lexer": "ipython3",
   "version": "3.8.2"
  }
 },
 "nbformat": 4,
 "nbformat_minor": 2
}
